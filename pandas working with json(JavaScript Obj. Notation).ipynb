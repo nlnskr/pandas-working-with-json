{
 "cells": [
  {
   "cell_type": "code",
   "execution_count": 1,
   "id": "8a19910f",
   "metadata": {},
   "outputs": [],
   "source": [
    "data= '{\"emp_name\":\"james\",\"email_id\":\"james@gmail.com\",\"job_profile\":[{\"title-1\":\"team_lead\",\"title-2\":\"Sr.Datascientist\"}]}'"
   ]
  },
  {
   "cell_type": "code",
   "execution_count": 2,
   "id": "ef731578",
   "metadata": {},
   "outputs": [
    {
     "data": {
      "text/plain": [
       "str"
      ]
     },
     "execution_count": 2,
     "metadata": {},
     "output_type": "execute_result"
    }
   ],
   "source": [
    "type(data)"
   ]
  },
  {
   "cell_type": "code",
   "execution_count": 3,
   "id": "2c76dd7c",
   "metadata": {},
   "outputs": [],
   "source": [
    "import pandas as pd"
   ]
  },
  {
   "cell_type": "code",
   "execution_count": 4,
   "id": "aca39df2",
   "metadata": {},
   "outputs": [
    {
     "data": {
      "text/html": [
       "<div>\n",
       "<style scoped>\n",
       "    .dataframe tbody tr th:only-of-type {\n",
       "        vertical-align: middle;\n",
       "    }\n",
       "\n",
       "    .dataframe tbody tr th {\n",
       "        vertical-align: top;\n",
       "    }\n",
       "\n",
       "    .dataframe thead th {\n",
       "        text-align: right;\n",
       "    }\n",
       "</style>\n",
       "<table border=\"1\" class=\"dataframe\">\n",
       "  <thead>\n",
       "    <tr style=\"text-align: right;\">\n",
       "      <th></th>\n",
       "      <th>emp_name</th>\n",
       "      <th>email_id</th>\n",
       "      <th>job_profile</th>\n",
       "    </tr>\n",
       "  </thead>\n",
       "  <tbody>\n",
       "    <tr>\n",
       "      <th>0</th>\n",
       "      <td>james</td>\n",
       "      <td>james@gmail.com</td>\n",
       "      <td>{'title-1': 'team_lead', 'title-2': 'Sr.Datasc...</td>\n",
       "    </tr>\n",
       "  </tbody>\n",
       "</table>\n",
       "</div>"
      ],
      "text/plain": [
       "  emp_name         email_id                                        job_profile\n",
       "0    james  james@gmail.com  {'title-1': 'team_lead', 'title-2': 'Sr.Datasc..."
      ]
     },
     "execution_count": 4,
     "metadata": {},
     "output_type": "execute_result"
    }
   ],
   "source": [
    "pd.read_json(data) #data should be as string..."
   ]
  },
  {
   "cell_type": "code",
   "execution_count": 5,
   "id": "1ee6c53b",
   "metadata": {},
   "outputs": [
    {
     "data": {
      "text/html": [
       "<div>\n",
       "<style scoped>\n",
       "    .dataframe tbody tr th:only-of-type {\n",
       "        vertical-align: middle;\n",
       "    }\n",
       "\n",
       "    .dataframe tbody tr th {\n",
       "        vertical-align: top;\n",
       "    }\n",
       "\n",
       "    .dataframe thead th {\n",
       "        text-align: right;\n",
       "    }\n",
       "</style>\n",
       "<table border=\"1\" class=\"dataframe\">\n",
       "  <thead>\n",
       "    <tr style=\"text-align: right;\">\n",
       "      <th></th>\n",
       "      <th>emp_name</th>\n",
       "      <th>email_id</th>\n",
       "      <th>job_profile</th>\n",
       "    </tr>\n",
       "  </thead>\n",
       "  <tbody>\n",
       "    <tr>\n",
       "      <th>0</th>\n",
       "      <td>james</td>\n",
       "      <td>james@gmail.com</td>\n",
       "      <td>{'title-1': 'team_lead', 'title-2': 'Sr.Datasc...</td>\n",
       "    </tr>\n",
       "  </tbody>\n",
       "</table>\n",
       "</div>"
      ],
      "text/plain": [
       "  emp_name         email_id                                        job_profile\n",
       "0    james  james@gmail.com  {'title-1': 'team_lead', 'title-2': 'Sr.Datasc..."
      ]
     },
     "execution_count": 5,
     "metadata": {},
     "output_type": "execute_result"
    }
   ],
   "source": [
    "pd.read_json(data,orient='records')"
   ]
  },
  {
   "cell_type": "code",
   "execution_count": 6,
   "id": "943c15bd",
   "metadata": {},
   "outputs": [
    {
     "data": {
      "text/html": [
       "<div>\n",
       "<style scoped>\n",
       "    .dataframe tbody tr th:only-of-type {\n",
       "        vertical-align: middle;\n",
       "    }\n",
       "\n",
       "    .dataframe tbody tr th {\n",
       "        vertical-align: top;\n",
       "    }\n",
       "\n",
       "    .dataframe thead th {\n",
       "        text-align: right;\n",
       "    }\n",
       "</style>\n",
       "<table border=\"1\" class=\"dataframe\">\n",
       "  <thead>\n",
       "    <tr style=\"text-align: right;\">\n",
       "      <th></th>\n",
       "      <th>0</th>\n",
       "    </tr>\n",
       "  </thead>\n",
       "  <tbody>\n",
       "    <tr>\n",
       "      <th>emp_name</th>\n",
       "      <td>james</td>\n",
       "    </tr>\n",
       "    <tr>\n",
       "      <th>email_id</th>\n",
       "      <td>james@gmail.com</td>\n",
       "    </tr>\n",
       "    <tr>\n",
       "      <th>job_profile</th>\n",
       "      <td>[{'title-1': 'team_lead', 'title-2': 'Sr.Datas...</td>\n",
       "    </tr>\n",
       "  </tbody>\n",
       "</table>\n",
       "</div>"
      ],
      "text/plain": [
       "                                                             0\n",
       "emp_name                                                 james\n",
       "email_id                                       james@gmail.com\n",
       "job_profile  [{'title-1': 'team_lead', 'title-2': 'Sr.Datas..."
      ]
     },
     "execution_count": 6,
     "metadata": {},
     "output_type": "execute_result"
    }
   ],
   "source": [
    "pd.read_json(data,orient='index')"
   ]
  },
  {
   "cell_type": "code",
   "execution_count": 8,
   "id": "7faef276",
   "metadata": {},
   "outputs": [
    {
     "data": {
      "text/html": [
       "<div>\n",
       "<style scoped>\n",
       "    .dataframe tbody tr th:only-of-type {\n",
       "        vertical-align: middle;\n",
       "    }\n",
       "\n",
       "    .dataframe tbody tr th {\n",
       "        vertical-align: top;\n",
       "    }\n",
       "\n",
       "    .dataframe thead th {\n",
       "        text-align: right;\n",
       "    }\n",
       "</style>\n",
       "<table border=\"1\" class=\"dataframe\">\n",
       "  <thead>\n",
       "    <tr style=\"text-align: right;\">\n",
       "      <th></th>\n",
       "      <th>emp_name</th>\n",
       "      <th>email_id</th>\n",
       "      <th>job_profile</th>\n",
       "    </tr>\n",
       "  </thead>\n",
       "  <tbody>\n",
       "    <tr>\n",
       "      <th>0</th>\n",
       "      <td>james</td>\n",
       "      <td>james@gmail.com</td>\n",
       "      <td>{'title-1': 'team_lead', 'title-2': 'Sr.Datasc...</td>\n",
       "    </tr>\n",
       "  </tbody>\n",
       "</table>\n",
       "</div>"
      ],
      "text/plain": [
       "  emp_name         email_id                                        job_profile\n",
       "0    james  james@gmail.com  {'title-1': 'team_lead', 'title-2': 'Sr.Datasc..."
      ]
     },
     "execution_count": 8,
     "metadata": {},
     "output_type": "execute_result"
    }
   ],
   "source": [
    "pd.read_json(data,orient='columns') #record and columns show same result"
   ]
  },
  {
   "cell_type": "code",
   "execution_count": 9,
   "id": "de09b7b3",
   "metadata": {},
   "outputs": [],
   "source": [
    "df=pd.DataFrame([['a','b'],['c','d']],\n",
    "               index=['row1','row2'],\n",
    "               columns=['col 1','col 2'])"
   ]
  },
  {
   "cell_type": "code",
   "execution_count": 16,
   "id": "e35a21d6",
   "metadata": {},
   "outputs": [
    {
     "data": {
      "text/plain": [
       "pandas.core.frame.DataFrame"
      ]
     },
     "execution_count": 16,
     "metadata": {},
     "output_type": "execute_result"
    }
   ],
   "source": [
    "type(df)"
   ]
  },
  {
   "cell_type": "code",
   "execution_count": 10,
   "id": "0fab7857",
   "metadata": {},
   "outputs": [
    {
     "data": {
      "text/html": [
       "<div>\n",
       "<style scoped>\n",
       "    .dataframe tbody tr th:only-of-type {\n",
       "        vertical-align: middle;\n",
       "    }\n",
       "\n",
       "    .dataframe tbody tr th {\n",
       "        vertical-align: top;\n",
       "    }\n",
       "\n",
       "    .dataframe thead th {\n",
       "        text-align: right;\n",
       "    }\n",
       "</style>\n",
       "<table border=\"1\" class=\"dataframe\">\n",
       "  <thead>\n",
       "    <tr style=\"text-align: right;\">\n",
       "      <th></th>\n",
       "      <th>col 1</th>\n",
       "      <th>col 2</th>\n",
       "    </tr>\n",
       "  </thead>\n",
       "  <tbody>\n",
       "    <tr>\n",
       "      <th>row1</th>\n",
       "      <td>a</td>\n",
       "      <td>b</td>\n",
       "    </tr>\n",
       "    <tr>\n",
       "      <th>row2</th>\n",
       "      <td>c</td>\n",
       "      <td>d</td>\n",
       "    </tr>\n",
       "  </tbody>\n",
       "</table>\n",
       "</div>"
      ],
      "text/plain": [
       "     col 1 col 2\n",
       "row1     a     b\n",
       "row2     c     d"
      ]
     },
     "execution_count": 10,
     "metadata": {},
     "output_type": "execute_result"
    }
   ],
   "source": [
    "df"
   ]
  },
  {
   "cell_type": "code",
   "execution_count": 17,
   "id": "a31ae2f5",
   "metadata": {},
   "outputs": [
    {
     "data": {
      "text/plain": [
       "'{\"col 1\":{\"row1\":\"a\",\"row2\":\"c\"},\"col 2\":{\"row1\":\"b\",\"row2\":\"d\"}}'"
      ]
     },
     "execution_count": 17,
     "metadata": {},
     "output_type": "execute_result"
    }
   ],
   "source": [
    "df.to_json() #to convert json"
   ]
  },
  {
   "cell_type": "code",
   "execution_count": 22,
   "id": "4ceffd58",
   "metadata": {},
   "outputs": [
    {
     "data": {
      "text/plain": [
       "'{\"row1\":{\"col 1\":\"a\",\"col 2\":\"b\"},\"row2\":{\"col 1\":\"c\",\"col 2\":\"d\"}}'"
      ]
     },
     "execution_count": 22,
     "metadata": {},
     "output_type": "execute_result"
    }
   ],
   "source": [
    "df.to_json(orient='index')"
   ]
  },
  {
   "cell_type": "code",
   "execution_count": 23,
   "id": "28acdd25",
   "metadata": {},
   "outputs": [
    {
     "data": {
      "text/plain": [
       "'{\"col 1\":{\"row1\":\"a\",\"row2\":\"c\"},\"col 2\":{\"row1\":\"b\",\"row2\":\"d\"}}'"
      ]
     },
     "execution_count": 23,
     "metadata": {},
     "output_type": "execute_result"
    }
   ],
   "source": [
    "df.to_json(orient='columns')"
   ]
  },
  {
   "cell_type": "code",
   "execution_count": 24,
   "id": "464b580d",
   "metadata": {},
   "outputs": [
    {
     "data": {
      "text/plain": [
       "'[{\"col 1\":\"a\",\"col 2\":\"b\"},{\"col 1\":\"c\",\"col 2\":\"d\"}]'"
      ]
     },
     "execution_count": 24,
     "metadata": {},
     "output_type": "execute_result"
    }
   ],
   "source": [
    "df.to_json(orient='records')"
   ]
  },
  {
   "cell_type": "code",
   "execution_count": 25,
   "id": "64798476",
   "metadata": {},
   "outputs": [
    {
     "data": {
      "text/plain": [
       "'{\"columns\":[\"col 1\",\"col 2\"],\"index\":[\"row1\",\"row2\"],\"data\":[[\"a\",\"b\"],[\"c\",\"d\"]]}'"
      ]
     },
     "execution_count": 25,
     "metadata": {},
     "output_type": "execute_result"
    }
   ],
   "source": [
    "df.to_json(orient='split')"
   ]
  },
  {
   "cell_type": "code",
   "execution_count": 32,
   "id": "3904592c",
   "metadata": {},
   "outputs": [
    {
     "data": {
      "text/plain": [
       "'{\"schema\":{\"fields\":[{\"name\":\"index\",\"type\":\"string\"},{\"name\":\"col 1\",\"type\":\"string\"},{\"name\":\"col 2\",\"type\":\"string\"}],\"primaryKey\":[\"index\"],\"pandas_version\":\"0.20.0\"},\"data\":[{\"index\":\"row1\",\"col 1\":\"a\",\"col 2\":\"b\"},{\"index\":\"row2\",\"col 1\":\"c\",\"col 2\":\"d\"}]}'"
      ]
     },
     "execution_count": 32,
     "metadata": {},
     "output_type": "execute_result"
    }
   ],
   "source": [
    "schema=df.to_json(orient='table')\n",
    "schema"
   ]
  },
  {
   "cell_type": "code",
   "execution_count": 33,
   "id": "cb43d394",
   "metadata": {},
   "outputs": [
    {
     "data": {
      "text/html": [
       "<div>\n",
       "<style scoped>\n",
       "    .dataframe tbody tr th:only-of-type {\n",
       "        vertical-align: middle;\n",
       "    }\n",
       "\n",
       "    .dataframe tbody tr th {\n",
       "        vertical-align: top;\n",
       "    }\n",
       "\n",
       "    .dataframe thead th {\n",
       "        text-align: right;\n",
       "    }\n",
       "</style>\n",
       "<table border=\"1\" class=\"dataframe\">\n",
       "  <thead>\n",
       "    <tr style=\"text-align: right;\">\n",
       "      <th></th>\n",
       "      <th>col 1</th>\n",
       "      <th>col 2</th>\n",
       "    </tr>\n",
       "  </thead>\n",
       "  <tbody>\n",
       "    <tr>\n",
       "      <th>row1</th>\n",
       "      <td>a</td>\n",
       "      <td>b</td>\n",
       "    </tr>\n",
       "    <tr>\n",
       "      <th>row2</th>\n",
       "      <td>c</td>\n",
       "      <td>d</td>\n",
       "    </tr>\n",
       "  </tbody>\n",
       "</table>\n",
       "</div>"
      ],
      "text/plain": [
       "     col 1 col 2\n",
       "row1     a     b\n",
       "row2     c     d"
      ]
     },
     "execution_count": 33,
     "metadata": {},
     "output_type": "execute_result"
    }
   ],
   "source": [
    "pd.read_json(schema,orient='table')"
   ]
  },
  {
   "cell_type": "code",
   "execution_count": 35,
   "id": "1ef09af4",
   "metadata": {},
   "outputs": [
    {
     "data": {
      "text/html": [
       "<div>\n",
       "<style scoped>\n",
       "    .dataframe tbody tr th:only-of-type {\n",
       "        vertical-align: middle;\n",
       "    }\n",
       "\n",
       "    .dataframe tbody tr th {\n",
       "        vertical-align: top;\n",
       "    }\n",
       "\n",
       "    .dataframe thead tr th {\n",
       "        text-align: left;\n",
       "    }\n",
       "</style>\n",
       "<table border=\"1\" class=\"dataframe\">\n",
       "  <thead>\n",
       "    <tr>\n",
       "      <th></th>\n",
       "      <th colspan=\"3\" halign=\"left\">Top 8 Hyundai and Genesis vehicleproduction by country, 2021[46]</th>\n",
       "    </tr>\n",
       "    <tr>\n",
       "      <th></th>\n",
       "      <th>Rank</th>\n",
       "      <th>Country</th>\n",
       "      <th>Vehicleproduction</th>\n",
       "    </tr>\n",
       "  </thead>\n",
       "  <tbody>\n",
       "    <tr>\n",
       "      <th>0</th>\n",
       "      <td>1</td>\n",
       "      <td>South Korea</td>\n",
       "      <td>1646888</td>\n",
       "    </tr>\n",
       "    <tr>\n",
       "      <th>1</th>\n",
       "      <td>2</td>\n",
       "      <td>India</td>\n",
       "      <td>635413</td>\n",
       "    </tr>\n",
       "    <tr>\n",
       "      <th>2</th>\n",
       "      <td>3</td>\n",
       "      <td>China</td>\n",
       "      <td>360565</td>\n",
       "    </tr>\n",
       "    <tr>\n",
       "      <th>3</th>\n",
       "      <td>4</td>\n",
       "      <td>United States</td>\n",
       "      <td>288967</td>\n",
       "    </tr>\n",
       "    <tr>\n",
       "      <th>4</th>\n",
       "      <td>5</td>\n",
       "      <td>Czech Republic</td>\n",
       "      <td>275620</td>\n",
       "    </tr>\n",
       "    <tr>\n",
       "      <th>5</th>\n",
       "      <td>6</td>\n",
       "      <td>Russia</td>\n",
       "      <td>235157</td>\n",
       "    </tr>\n",
       "    <tr>\n",
       "      <th>6</th>\n",
       "      <td>7</td>\n",
       "      <td>Brazil</td>\n",
       "      <td>188349</td>\n",
       "    </tr>\n",
       "    <tr>\n",
       "      <th>7</th>\n",
       "      <td>8</td>\n",
       "      <td>Turkey</td>\n",
       "      <td>161500</td>\n",
       "    </tr>\n",
       "  </tbody>\n",
       "</table>\n",
       "</div>"
      ],
      "text/plain": [
       "  Top 8 Hyundai and Genesis vehicleproduction by country, 2021[46]  \\\n",
       "                                                              Rank   \n",
       "0                                                  1                 \n",
       "1                                                  2                 \n",
       "2                                                  3                 \n",
       "3                                                  4                 \n",
       "4                                                  5                 \n",
       "5                                                  6                 \n",
       "6                                                  7                 \n",
       "7                                                  8                 \n",
       "\n",
       "                                     \n",
       "          Country Vehicleproduction  \n",
       "0     South Korea           1646888  \n",
       "1           India            635413  \n",
       "2           China            360565  \n",
       "3   United States            288967  \n",
       "4  Czech Republic            275620  \n",
       "5          Russia            235157  \n",
       "6          Brazil            188349  \n",
       "7          Turkey            161500  "
      ]
     },
     "execution_count": 35,
     "metadata": {},
     "output_type": "execute_result"
    }
   ],
   "source": [
    "df=pd.read_html('https://en.wikipedia.org/wiki/Hyundai_Motor_Company')\n",
    "ds=df[2]\n",
    "ds"
   ]
  },
  {
   "cell_type": "code",
   "execution_count": 36,
   "id": "b94ece5f",
   "metadata": {},
   "outputs": [
    {
     "data": {
      "text/html": [
       "<div>\n",
       "<style scoped>\n",
       "    .dataframe tbody tr th:only-of-type {\n",
       "        vertical-align: middle;\n",
       "    }\n",
       "\n",
       "    .dataframe tbody tr th {\n",
       "        vertical-align: top;\n",
       "    }\n",
       "\n",
       "    .dataframe thead th {\n",
       "        text-align: right;\n",
       "    }\n",
       "</style>\n",
       "<table border=\"1\" class=\"dataframe\">\n",
       "  <thead>\n",
       "    <tr style=\"text-align: right;\">\n",
       "      <th></th>\n",
       "      <th>Rank</th>\n",
       "      <th>Model</th>\n",
       "      <th>Global sales</th>\n",
       "    </tr>\n",
       "  </thead>\n",
       "  <tbody>\n",
       "    <tr>\n",
       "      <th>0</th>\n",
       "      <td>1</td>\n",
       "      <td>Tucson</td>\n",
       "      <td>476834</td>\n",
       "    </tr>\n",
       "    <tr>\n",
       "      <th>1</th>\n",
       "      <td>2</td>\n",
       "      <td>Elantra/Avante/i30 Sedan</td>\n",
       "      <td>380907</td>\n",
       "    </tr>\n",
       "    <tr>\n",
       "      <th>2</th>\n",
       "      <td>3</td>\n",
       "      <td>Creta/ix25</td>\n",
       "      <td>313693</td>\n",
       "    </tr>\n",
       "    <tr>\n",
       "      <th>3</th>\n",
       "      <td>4</td>\n",
       "      <td>i10/Xcent/Aura</td>\n",
       "      <td>245611</td>\n",
       "    </tr>\n",
       "    <tr>\n",
       "      <th>4</th>\n",
       "      <td>5</td>\n",
       "      <td>Kona/Encino/Kauai</td>\n",
       "      <td>233170</td>\n",
       "    </tr>\n",
       "    <tr>\n",
       "      <th>5</th>\n",
       "      <td>6</td>\n",
       "      <td>Santa Fe</td>\n",
       "      <td>221230</td>\n",
       "    </tr>\n",
       "    <tr>\n",
       "      <th>6</th>\n",
       "      <td>7</td>\n",
       "      <td>Venue</td>\n",
       "      <td>185720</td>\n",
       "    </tr>\n",
       "    <tr>\n",
       "      <th>7</th>\n",
       "      <td>8</td>\n",
       "      <td>Accent/Verna/Solaris</td>\n",
       "      <td>184286</td>\n",
       "    </tr>\n",
       "    <tr>\n",
       "      <th>8</th>\n",
       "      <td>9</td>\n",
       "      <td>Sonata</td>\n",
       "      <td>158361</td>\n",
       "    </tr>\n",
       "    <tr>\n",
       "      <th>9</th>\n",
       "      <td>10</td>\n",
       "      <td>Palisade</td>\n",
       "      <td>157688</td>\n",
       "    </tr>\n",
       "  </tbody>\n",
       "</table>\n",
       "</div>"
      ],
      "text/plain": [
       "   Rank                     Model  Global sales\n",
       "0     1                    Tucson        476834\n",
       "1     2  Elantra/Avante/i30 Sedan        380907\n",
       "2     3                Creta/ix25        313693\n",
       "3     4            i10/Xcent/Aura        245611\n",
       "4     5         Kona/Encino/Kauai        233170\n",
       "5     6                  Santa Fe        221230\n",
       "6     7                     Venue        185720\n",
       "7     8      Accent/Verna/Solaris        184286\n",
       "8     9                    Sonata        158361\n",
       "9    10                  Palisade        157688"
      ]
     },
     "execution_count": 36,
     "metadata": {},
     "output_type": "execute_result"
    }
   ],
   "source": [
    "ds1=df[4]\n",
    "ds1"
   ]
  },
  {
   "cell_type": "code",
   "execution_count": 37,
   "id": "ecadc71f",
   "metadata": {},
   "outputs": [],
   "source": [
    "hyundai=ds.to_json(orient='index')"
   ]
  },
  {
   "cell_type": "code",
   "execution_count": 38,
   "id": "5bbd3b05",
   "metadata": {},
   "outputs": [
    {
     "data": {
      "text/plain": [
       "'{\"0\":{\"(\\'Top 8 Hyundai and Genesis vehicleproduction by country, 2021[46]\\', \\'Rank\\')\":1,\"(\\'Top 8 Hyundai and Genesis vehicleproduction by country, 2021[46]\\', \\'Country\\')\":\"South Korea\",\"(\\'Top 8 Hyundai and Genesis vehicleproduction by country, 2021[46]\\', \\'Vehicleproduction\\')\":1646888},\"1\":{\"(\\'Top 8 Hyundai and Genesis vehicleproduction by country, 2021[46]\\', \\'Rank\\')\":2,\"(\\'Top 8 Hyundai and Genesis vehicleproduction by country, 2021[46]\\', \\'Country\\')\":\"India\",\"(\\'Top 8 Hyundai and Genesis vehicleproduction by country, 2021[46]\\', \\'Vehicleproduction\\')\":635413},\"2\":{\"(\\'Top 8 Hyundai and Genesis vehicleproduction by country, 2021[46]\\', \\'Rank\\')\":3,\"(\\'Top 8 Hyundai and Genesis vehicleproduction by country, 2021[46]\\', \\'Country\\')\":\"China\",\"(\\'Top 8 Hyundai and Genesis vehicleproduction by country, 2021[46]\\', \\'Vehicleproduction\\')\":360565},\"3\":{\"(\\'Top 8 Hyundai and Genesis vehicleproduction by country, 2021[46]\\', \\'Rank\\')\":4,\"(\\'Top 8 Hyundai and Genesis vehicleproduction by country, 2021[46]\\', \\'Country\\')\":\"United States\",\"(\\'Top 8 Hyundai and Genesis vehicleproduction by country, 2021[46]\\', \\'Vehicleproduction\\')\":288967},\"4\":{\"(\\'Top 8 Hyundai and Genesis vehicleproduction by country, 2021[46]\\', \\'Rank\\')\":5,\"(\\'Top 8 Hyundai and Genesis vehicleproduction by country, 2021[46]\\', \\'Country\\')\":\"Czech Republic\",\"(\\'Top 8 Hyundai and Genesis vehicleproduction by country, 2021[46]\\', \\'Vehicleproduction\\')\":275620},\"5\":{\"(\\'Top 8 Hyundai and Genesis vehicleproduction by country, 2021[46]\\', \\'Rank\\')\":6,\"(\\'Top 8 Hyundai and Genesis vehicleproduction by country, 2021[46]\\', \\'Country\\')\":\"Russia\",\"(\\'Top 8 Hyundai and Genesis vehicleproduction by country, 2021[46]\\', \\'Vehicleproduction\\')\":235157},\"6\":{\"(\\'Top 8 Hyundai and Genesis vehicleproduction by country, 2021[46]\\', \\'Rank\\')\":7,\"(\\'Top 8 Hyundai and Genesis vehicleproduction by country, 2021[46]\\', \\'Country\\')\":\"Brazil\",\"(\\'Top 8 Hyundai and Genesis vehicleproduction by country, 2021[46]\\', \\'Vehicleproduction\\')\":188349},\"7\":{\"(\\'Top 8 Hyundai and Genesis vehicleproduction by country, 2021[46]\\', \\'Rank\\')\":8,\"(\\'Top 8 Hyundai and Genesis vehicleproduction by country, 2021[46]\\', \\'Country\\')\":\"Turkey\",\"(\\'Top 8 Hyundai and Genesis vehicleproduction by country, 2021[46]\\', \\'Vehicleproduction\\')\":161500}}'"
      ]
     },
     "execution_count": 38,
     "metadata": {},
     "output_type": "execute_result"
    }
   ],
   "source": [
    "hyundai"
   ]
  },
  {
   "cell_type": "code",
   "execution_count": 39,
   "id": "f17a2432",
   "metadata": {},
   "outputs": [],
   "source": [
    "kaka=[{\"0\":{\"(\\'Top 8 Hyundai and Genesis vehicleproduction by country, 2021[46]\\', \\'Rank\\')\":1,\"(\\'Top 8 Hyundai and Genesis vehicleproduction by country, 2021[46]\\', \\'Country\\')\":\"South Korea\",\"(\\'Top 8 Hyundai and Genesis vehicleproduction by country, 2021[46]\\', \\'Vehicleproduction\\')\":1646888},\"1\":{\"(\\'Top 8 Hyundai and Genesis vehicleproduction by country, 2021[46]\\', \\'Rank\\')\":2,\"(\\'Top 8 Hyundai and Genesis vehicleproduction by country, 2021[46]\\', \\'Country\\')\":\"India\",\"(\\'Top 8 Hyundai and Genesis vehicleproduction by country, 2021[46]\\', \\'Vehicleproduction\\')\":635413},\"2\":{\"(\\'Top 8 Hyundai and Genesis vehicleproduction by country, 2021[46]\\', \\'Rank\\')\":3,\"(\\'Top 8 Hyundai and Genesis vehicleproduction by country, 2021[46]\\', \\'Country\\')\":\"China\",\"(\\'Top 8 Hyundai and Genesis vehicleproduction by country, 2021[46]\\', \\'Vehicleproduction\\')\":360565},\"3\":{\"(\\'Top 8 Hyundai and Genesis vehicleproduction by country, 2021[46]\\', \\'Rank\\')\":4,\"(\\'Top 8 Hyundai and Genesis vehicleproduction by country, 2021[46]\\', \\'Country\\')\":\"United States\",\"(\\'Top 8 Hyundai and Genesis vehicleproduction by country, 2021[46]\\', \\'Vehicleproduction\\')\":288967},\"4\":{\"(\\'Top 8 Hyundai and Genesis vehicleproduction by country, 2021[46]\\', \\'Rank\\')\":5,\"(\\'Top 8 Hyundai and Genesis vehicleproduction by country, 2021[46]\\', \\'Country\\')\":\"Czech Republic\",\"(\\'Top 8 Hyundai and Genesis vehicleproduction by country, 2021[46]\\', \\'Vehicleproduction\\')\":275620},\"5\":{\"(\\'Top 8 Hyundai and Genesis vehicleproduction by country, 2021[46]\\', \\'Rank\\')\":6,\"(\\'Top 8 Hyundai and Genesis vehicleproduction by country, 2021[46]\\', \\'Country\\')\":\"Russia\",\"(\\'Top 8 Hyundai and Genesis vehicleproduction by country, 2021[46]\\', \\'Vehicleproduction\\')\":235157},\"6\":{\"(\\'Top 8 Hyundai and Genesis vehicleproduction by country, 2021[46]\\', \\'Rank\\')\":7,\"(\\'Top 8 Hyundai and Genesis vehicleproduction by country, 2021[46]\\', \\'Country\\')\":\"Brazil\",\"(\\'Top 8 Hyundai and Genesis vehicleproduction by country, 2021[46]\\', \\'Vehicleproduction\\')\":188349},\"7\":{\"(\\'Top 8 Hyundai and Genesis vehicleproduction by country, 2021[46]\\', \\'Rank\\')\":8,\"(\\'Top 8 Hyundai and Genesis vehicleproduction by country, 2021[46]\\', \\'Country\\')\":\"Turkey\",\"(\\'Top 8 Hyundai and Genesis vehicleproduction by country, 2021[46]\\', \\'Vehicleproduction\\')\":161500}]"
   ]
  },
  {
   "cell_type": "code",
   "execution_count": 41,
   "id": "0735a210",
   "metadata": {},
   "outputs": [
    {
     "data": {
      "text/html": [
       "<div>\n",
       "<style scoped>\n",
       "    .dataframe tbody tr th:only-of-type {\n",
       "        vertical-align: middle;\n",
       "    }\n",
       "\n",
       "    .dataframe tbody tr th {\n",
       "        vertical-align: top;\n",
       "    }\n",
       "\n",
       "    .dataframe thead th {\n",
       "        text-align: right;\n",
       "    }\n",
       "</style>\n",
       "<table border=\"1\" class=\"dataframe\">\n",
       "  <thead>\n",
       "    <tr style=\"text-align: right;\">\n",
       "      <th></th>\n",
       "      <th>('Top 8 Hyundai and Genesis vehicleproduction by country, 2021[46]', 'Rank')</th>\n",
       "      <th>('Top 8 Hyundai and Genesis vehicleproduction by country, 2021[46]', 'Country')</th>\n",
       "      <th>('Top 8 Hyundai and Genesis vehicleproduction by country, 2021[46]', 'Vehicleproduction')</th>\n",
       "    </tr>\n",
       "  </thead>\n",
       "  <tbody>\n",
       "    <tr>\n",
       "      <th>0</th>\n",
       "      <td>1</td>\n",
       "      <td>South Korea</td>\n",
       "      <td>1646888</td>\n",
       "    </tr>\n",
       "    <tr>\n",
       "      <th>1</th>\n",
       "      <td>2</td>\n",
       "      <td>India</td>\n",
       "      <td>635413</td>\n",
       "    </tr>\n",
       "    <tr>\n",
       "      <th>2</th>\n",
       "      <td>3</td>\n",
       "      <td>China</td>\n",
       "      <td>360565</td>\n",
       "    </tr>\n",
       "    <tr>\n",
       "      <th>3</th>\n",
       "      <td>4</td>\n",
       "      <td>United States</td>\n",
       "      <td>288967</td>\n",
       "    </tr>\n",
       "    <tr>\n",
       "      <th>4</th>\n",
       "      <td>5</td>\n",
       "      <td>Czech Republic</td>\n",
       "      <td>275620</td>\n",
       "    </tr>\n",
       "    <tr>\n",
       "      <th>5</th>\n",
       "      <td>6</td>\n",
       "      <td>Russia</td>\n",
       "      <td>235157</td>\n",
       "    </tr>\n",
       "    <tr>\n",
       "      <th>6</th>\n",
       "      <td>7</td>\n",
       "      <td>Brazil</td>\n",
       "      <td>188349</td>\n",
       "    </tr>\n",
       "    <tr>\n",
       "      <th>7</th>\n",
       "      <td>8</td>\n",
       "      <td>Turkey</td>\n",
       "      <td>161500</td>\n",
       "    </tr>\n",
       "  </tbody>\n",
       "</table>\n",
       "</div>"
      ],
      "text/plain": [
       "   ('Top 8 Hyundai and Genesis vehicleproduction by country, 2021[46]', 'Rank')  \\\n",
       "0                                                  1                              \n",
       "1                                                  2                              \n",
       "2                                                  3                              \n",
       "3                                                  4                              \n",
       "4                                                  5                              \n",
       "5                                                  6                              \n",
       "6                                                  7                              \n",
       "7                                                  8                              \n",
       "\n",
       "  ('Top 8 Hyundai and Genesis vehicleproduction by country, 2021[46]', 'Country')  \\\n",
       "0                                        South Korea                                \n",
       "1                                              India                                \n",
       "2                                              China                                \n",
       "3                                      United States                                \n",
       "4                                     Czech Republic                                \n",
       "5                                             Russia                                \n",
       "6                                             Brazil                                \n",
       "7                                             Turkey                                \n",
       "\n",
       "   ('Top 8 Hyundai and Genesis vehicleproduction by country, 2021[46]', 'Vehicleproduction')  \n",
       "0                                            1646888                                          \n",
       "1                                             635413                                          \n",
       "2                                             360565                                          \n",
       "3                                             288967                                          \n",
       "4                                             275620                                          \n",
       "5                                             235157                                          \n",
       "6                                             188349                                          \n",
       "7                                             161500                                          "
      ]
     },
     "execution_count": 41,
     "metadata": {},
     "output_type": "execute_result"
    }
   ],
   "source": [
    "pd.read_json(kaka,orient='index')"
   ]
  },
  {
   "cell_type": "code",
   "execution_count": null,
   "id": "0977d28e",
   "metadata": {},
   "outputs": [],
   "source": [
    "pd.json_normalize()"
   ]
  },
  {
   "cell_type": "code",
   "execution_count": 66,
   "id": "38fdb3a9",
   "metadata": {
    "scrolled": true
   },
   "outputs": [
    {
     "data": {
      "text/plain": [
       "'{\"0\":{\"Rank\":1,\"Model\":\"Tucson\",\"Global sales\":476834},\"1\":{\"Rank\":2,\"Model\":\"Elantra\\\\/Avante\\\\/i30 Sedan\",\"Global sales\":380907},\"2\":{\"Rank\":3,\"Model\":\"Creta\\\\/ix25\",\"Global sales\":313693},\"3\":{\"Rank\":4,\"Model\":\"i10\\\\/Xcent\\\\/Aura\",\"Global sales\":245611},\"4\":{\"Rank\":5,\"Model\":\"Kona\\\\/Encino\\\\/Kauai\",\"Global sales\":233170},\"5\":{\"Rank\":6,\"Model\":\"Santa Fe\",\"Global sales\":221230},\"6\":{\"Rank\":7,\"Model\":\"Venue\",\"Global sales\":185720},\"7\":{\"Rank\":8,\"Model\":\"Accent\\\\/Verna\\\\/Solaris\",\"Global sales\":184286},\"8\":{\"Rank\":9,\"Model\":\"Sonata\",\"Global sales\":158361},\"9\":{\"Rank\":10,\"Model\":\"Palisade\",\"Global sales\":157688}}'"
      ]
     },
     "execution_count": 66,
     "metadata": {},
     "output_type": "execute_result"
    }
   ],
   "source": [
    "ds1.to_json(orient='index')"
   ]
  },
  {
   "cell_type": "code",
   "execution_count": 45,
   "id": "c0916fdd",
   "metadata": {},
   "outputs": [],
   "source": [
    "mama=[{\"0\":{\"Rank\":1,\"Model\":\"Tucson\",\"Global sales\":476834},\"1\":{\"Rank\":2,\"Model\":\"Elantra\\\\/Avante\\\\/i30 Sedan\",\"Global sales\":380907},\"2\":{\"Rank\":3,\"Model\":\"Creta\\\\/ix25\",\"Global sales\":313693},\"3\":{\"Rank\":4,\"Model\":\"i10\\\\/Xcent\\\\/Aura\",\"Global sales\":245611},\"4\":{\"Rank\":5,\"Model\":\"Kona\\\\/Encino\\\\/Kauai\",\"Global sales\":233170},\"5\":{\"Rank\":6,\"Model\":\"Santa Fe\",\"Global sales\":221230},\"6\":{\"Rank\":7,\"Model\":\"Venue\",\"Global sales\":185720},\"7\":{\"Rank\":8,\"Model\":\"Accent\\\\/Verna\\\\/Solaris\",\"Global sales\":184286},\"8\":{\"Rank\":9,\"Model\":\"Sonata\",\"Global sales\":158361},\"9\":{\"Rank\":10,\"Model\":\"Palisade\",\"Global sales\":157688}}]"
   ]
  },
  {
   "cell_type": "code",
   "execution_count": 46,
   "id": "d2fc25d5",
   "metadata": {},
   "outputs": [
    {
     "data": {
      "text/plain": [
       "list"
      ]
     },
     "execution_count": 46,
     "metadata": {},
     "output_type": "execute_result"
    }
   ],
   "source": [
    "type(mama)"
   ]
  },
  {
   "cell_type": "code",
   "execution_count": 44,
   "id": "b2098c2f",
   "metadata": {},
   "outputs": [
    {
     "data": {
      "text/html": [
       "<div>\n",
       "<style scoped>\n",
       "    .dataframe tbody tr th:only-of-type {\n",
       "        vertical-align: middle;\n",
       "    }\n",
       "\n",
       "    .dataframe tbody tr th {\n",
       "        vertical-align: top;\n",
       "    }\n",
       "\n",
       "    .dataframe thead th {\n",
       "        text-align: right;\n",
       "    }\n",
       "</style>\n",
       "<table border=\"1\" class=\"dataframe\">\n",
       "  <thead>\n",
       "    <tr style=\"text-align: right;\">\n",
       "      <th></th>\n",
       "      <th>Rank</th>\n",
       "      <th>Model</th>\n",
       "      <th>Global sales</th>\n",
       "    </tr>\n",
       "  </thead>\n",
       "  <tbody>\n",
       "    <tr>\n",
       "      <th>0</th>\n",
       "      <td>1</td>\n",
       "      <td>Tucson</td>\n",
       "      <td>476834</td>\n",
       "    </tr>\n",
       "    <tr>\n",
       "      <th>1</th>\n",
       "      <td>2</td>\n",
       "      <td>Elantra/Avante/i30 Sedan</td>\n",
       "      <td>380907</td>\n",
       "    </tr>\n",
       "    <tr>\n",
       "      <th>2</th>\n",
       "      <td>3</td>\n",
       "      <td>Creta/ix25</td>\n",
       "      <td>313693</td>\n",
       "    </tr>\n",
       "    <tr>\n",
       "      <th>3</th>\n",
       "      <td>4</td>\n",
       "      <td>i10/Xcent/Aura</td>\n",
       "      <td>245611</td>\n",
       "    </tr>\n",
       "    <tr>\n",
       "      <th>4</th>\n",
       "      <td>5</td>\n",
       "      <td>Kona/Encino/Kauai</td>\n",
       "      <td>233170</td>\n",
       "    </tr>\n",
       "    <tr>\n",
       "      <th>5</th>\n",
       "      <td>6</td>\n",
       "      <td>Santa Fe</td>\n",
       "      <td>221230</td>\n",
       "    </tr>\n",
       "    <tr>\n",
       "      <th>6</th>\n",
       "      <td>7</td>\n",
       "      <td>Venue</td>\n",
       "      <td>185720</td>\n",
       "    </tr>\n",
       "    <tr>\n",
       "      <th>7</th>\n",
       "      <td>8</td>\n",
       "      <td>Accent/Verna/Solaris</td>\n",
       "      <td>184286</td>\n",
       "    </tr>\n",
       "    <tr>\n",
       "      <th>8</th>\n",
       "      <td>9</td>\n",
       "      <td>Sonata</td>\n",
       "      <td>158361</td>\n",
       "    </tr>\n",
       "    <tr>\n",
       "      <th>9</th>\n",
       "      <td>10</td>\n",
       "      <td>Palisade</td>\n",
       "      <td>157688</td>\n",
       "    </tr>\n",
       "  </tbody>\n",
       "</table>\n",
       "</div>"
      ],
      "text/plain": [
       "   Rank                     Model  Global sales\n",
       "0     1                    Tucson        476834\n",
       "1     2  Elantra/Avante/i30 Sedan        380907\n",
       "2     3                Creta/ix25        313693\n",
       "3     4            i10/Xcent/Aura        245611\n",
       "4     5         Kona/Encino/Kauai        233170\n",
       "5     6                  Santa Fe        221230\n",
       "6     7                     Venue        185720\n",
       "7     8      Accent/Verna/Solaris        184286\n",
       "8     9                    Sonata        158361\n",
       "9    10                  Palisade        157688"
      ]
     },
     "execution_count": 44,
     "metadata": {},
     "output_type": "execute_result"
    }
   ],
   "source": [
    "pd.read_json(mama,orient='index')"
   ]
  },
  {
   "cell_type": "code",
   "execution_count": 47,
   "id": "66b5a9fd",
   "metadata": {},
   "outputs": [
    {
     "data": {
      "text/html": [
       "<div>\n",
       "<style scoped>\n",
       "    .dataframe tbody tr th:only-of-type {\n",
       "        vertical-align: middle;\n",
       "    }\n",
       "\n",
       "    .dataframe tbody tr th {\n",
       "        vertical-align: top;\n",
       "    }\n",
       "\n",
       "    .dataframe thead th {\n",
       "        text-align: right;\n",
       "    }\n",
       "</style>\n",
       "<table border=\"1\" class=\"dataframe\">\n",
       "  <thead>\n",
       "    <tr style=\"text-align: right;\">\n",
       "      <th></th>\n",
       "      <th>0.Rank</th>\n",
       "      <th>0.Model</th>\n",
       "      <th>0.Global sales</th>\n",
       "      <th>1.Rank</th>\n",
       "      <th>1.Model</th>\n",
       "      <th>1.Global sales</th>\n",
       "      <th>2.Rank</th>\n",
       "      <th>2.Model</th>\n",
       "      <th>2.Global sales</th>\n",
       "      <th>3.Rank</th>\n",
       "      <th>...</th>\n",
       "      <th>6.Global sales</th>\n",
       "      <th>7.Rank</th>\n",
       "      <th>7.Model</th>\n",
       "      <th>7.Global sales</th>\n",
       "      <th>8.Rank</th>\n",
       "      <th>8.Model</th>\n",
       "      <th>8.Global sales</th>\n",
       "      <th>9.Rank</th>\n",
       "      <th>9.Model</th>\n",
       "      <th>9.Global sales</th>\n",
       "    </tr>\n",
       "  </thead>\n",
       "  <tbody>\n",
       "    <tr>\n",
       "      <th>0</th>\n",
       "      <td>1</td>\n",
       "      <td>Tucson</td>\n",
       "      <td>476834</td>\n",
       "      <td>2</td>\n",
       "      <td>Elantra\\/Avante\\/i30 Sedan</td>\n",
       "      <td>380907</td>\n",
       "      <td>3</td>\n",
       "      <td>Creta\\/ix25</td>\n",
       "      <td>313693</td>\n",
       "      <td>4</td>\n",
       "      <td>...</td>\n",
       "      <td>185720</td>\n",
       "      <td>8</td>\n",
       "      <td>Accent\\/Verna\\/Solaris</td>\n",
       "      <td>184286</td>\n",
       "      <td>9</td>\n",
       "      <td>Sonata</td>\n",
       "      <td>158361</td>\n",
       "      <td>10</td>\n",
       "      <td>Palisade</td>\n",
       "      <td>157688</td>\n",
       "    </tr>\n",
       "  </tbody>\n",
       "</table>\n",
       "<p>1 rows × 30 columns</p>\n",
       "</div>"
      ],
      "text/plain": [
       "   0.Rank 0.Model  0.Global sales  1.Rank                     1.Model  \\\n",
       "0       1  Tucson          476834       2  Elantra\\/Avante\\/i30 Sedan   \n",
       "\n",
       "   1.Global sales  2.Rank      2.Model  2.Global sales  3.Rank  ...  \\\n",
       "0          380907       3  Creta\\/ix25          313693       4  ...   \n",
       "\n",
       "  6.Global sales  7.Rank                 7.Model 7.Global sales  8.Rank  \\\n",
       "0         185720       8  Accent\\/Verna\\/Solaris         184286       9   \n",
       "\n",
       "   8.Model 8.Global sales  9.Rank   9.Model 9.Global sales  \n",
       "0   Sonata         158361      10  Palisade         157688  \n",
       "\n",
       "[1 rows x 30 columns]"
      ]
     },
     "execution_count": 47,
     "metadata": {},
     "output_type": "execute_result"
    }
   ],
   "source": [
    "pd.json_normalize(mama) #nee"
   ]
  },
  {
   "cell_type": "code",
   "execution_count": 49,
   "id": "e5142488",
   "metadata": {},
   "outputs": [],
   "source": [
    "data1= [{\"emp_name\":\"james\",\"email_id\":\"james@gmail.com\",\"job_profile\":{\"title-1\":\"team_lead\",\"title-2\":\"Sr.Datascientist\"}}]"
   ]
  },
  {
   "cell_type": "code",
   "execution_count": 50,
   "id": "c13f9fe3",
   "metadata": {},
   "outputs": [
    {
     "data": {
      "text/plain": [
       "list"
      ]
     },
     "execution_count": 50,
     "metadata": {},
     "output_type": "execute_result"
    }
   ],
   "source": [
    "type(data1)"
   ]
  },
  {
   "cell_type": "code",
   "execution_count": 52,
   "id": "a1018d10",
   "metadata": {},
   "outputs": [
    {
     "data": {
      "text/html": [
       "<div>\n",
       "<style scoped>\n",
       "    .dataframe tbody tr th:only-of-type {\n",
       "        vertical-align: middle;\n",
       "    }\n",
       "\n",
       "    .dataframe tbody tr th {\n",
       "        vertical-align: top;\n",
       "    }\n",
       "\n",
       "    .dataframe thead th {\n",
       "        text-align: right;\n",
       "    }\n",
       "</style>\n",
       "<table border=\"1\" class=\"dataframe\">\n",
       "  <thead>\n",
       "    <tr style=\"text-align: right;\">\n",
       "      <th></th>\n",
       "      <th>emp_name</th>\n",
       "      <th>email_id</th>\n",
       "      <th>job_profile.title-1</th>\n",
       "      <th>job_profile.title-2</th>\n",
       "    </tr>\n",
       "  </thead>\n",
       "  <tbody>\n",
       "    <tr>\n",
       "      <th>0</th>\n",
       "      <td>james</td>\n",
       "      <td>james@gmail.com</td>\n",
       "      <td>team_lead</td>\n",
       "      <td>Sr.Datascientist</td>\n",
       "    </tr>\n",
       "  </tbody>\n",
       "</table>\n",
       "</div>"
      ],
      "text/plain": [
       "  emp_name         email_id job_profile.title-1 job_profile.title-2\n",
       "0    james  james@gmail.com           team_lead    Sr.Datascientist"
      ]
     },
     "execution_count": 52,
     "metadata": {},
     "output_type": "execute_result"
    }
   ],
   "source": [
    "pd.json_normalize(data1)#we need to make list first if its string and rremove nested list"
   ]
  },
  {
   "cell_type": "code",
   "execution_count": 59,
   "id": "40142558",
   "metadata": {},
   "outputs": [],
   "source": [
    "data2=[\n",
    "    {\n",
    "        \"id\"  : 1,\n",
    "        \"name\" : \"cole volk\",\n",
    "        \"fitness\" : {\"height\":130,\"weight\":60},\n",
    "    },\n",
    "    { \"name\" : \"mark reg\", \"fitness\" : {\"height\":130,\"weight\":60}},\n",
    "    {\n",
    "    \"id\" : 3,\n",
    "    \"name\" : \"Faye Raker\",\n",
    "    \"fitness\" : {\"height\":130,\"weight\":60},\n",
    "    },\n",
    "]"
   ]
  },
  {
   "cell_type": "code",
   "execution_count": 60,
   "id": "ccc0105b",
   "metadata": {},
   "outputs": [
    {
     "data": {
      "text/html": [
       "<div>\n",
       "<style scoped>\n",
       "    .dataframe tbody tr th:only-of-type {\n",
       "        vertical-align: middle;\n",
       "    }\n",
       "\n",
       "    .dataframe tbody tr th {\n",
       "        vertical-align: top;\n",
       "    }\n",
       "\n",
       "    .dataframe thead th {\n",
       "        text-align: right;\n",
       "    }\n",
       "</style>\n",
       "<table border=\"1\" class=\"dataframe\">\n",
       "  <thead>\n",
       "    <tr style=\"text-align: right;\">\n",
       "      <th></th>\n",
       "      <th>id</th>\n",
       "      <th>name</th>\n",
       "      <th>fitness.height</th>\n",
       "      <th>fitness.weight</th>\n",
       "    </tr>\n",
       "  </thead>\n",
       "  <tbody>\n",
       "    <tr>\n",
       "      <th>0</th>\n",
       "      <td>1.0</td>\n",
       "      <td>cole volk</td>\n",
       "      <td>130</td>\n",
       "      <td>60</td>\n",
       "    </tr>\n",
       "    <tr>\n",
       "      <th>1</th>\n",
       "      <td>NaN</td>\n",
       "      <td>mark reg</td>\n",
       "      <td>130</td>\n",
       "      <td>60</td>\n",
       "    </tr>\n",
       "    <tr>\n",
       "      <th>2</th>\n",
       "      <td>3.0</td>\n",
       "      <td>Faye Raker</td>\n",
       "      <td>130</td>\n",
       "      <td>60</td>\n",
       "    </tr>\n",
       "  </tbody>\n",
       "</table>\n",
       "</div>"
      ],
      "text/plain": [
       "    id        name  fitness.height  fitness.weight\n",
       "0  1.0   cole volk             130              60\n",
       "1  NaN    mark reg             130              60\n",
       "2  3.0  Faye Raker             130              60"
      ]
     },
     "execution_count": 60,
     "metadata": {},
     "output_type": "execute_result"
    }
   ],
   "source": [
    "pd.json_normalize(data2)"
   ]
  },
  {
   "cell_type": "code",
   "execution_count": 61,
   "id": "b0134883",
   "metadata": {},
   "outputs": [],
   "source": [
    "data2=[\n",
    "    {\n",
    "        \"id\"  : 1,\n",
    "        \"name\" : \"cole volk\",\n",
    "        \"fitness\" : {\"height\":130,\"weight\":60},\n",
    "    },\n",
    "    {\"id\" :2 ,\"name\" : \"mark reg\", \"fitness\" : {\"height\":130,\"weight\":60}},\n",
    "    {\n",
    "    \"id\" : 3,\n",
    "    \"name\" : \"Faye Raker\",\n",
    "    \"fitness\" : {\"height\":130,\"weight\":60},\n",
    "    },\n",
    "]"
   ]
  },
  {
   "cell_type": "code",
   "execution_count": 62,
   "id": "5ea3b348",
   "metadata": {},
   "outputs": [
    {
     "data": {
      "text/html": [
       "<div>\n",
       "<style scoped>\n",
       "    .dataframe tbody tr th:only-of-type {\n",
       "        vertical-align: middle;\n",
       "    }\n",
       "\n",
       "    .dataframe tbody tr th {\n",
       "        vertical-align: top;\n",
       "    }\n",
       "\n",
       "    .dataframe thead th {\n",
       "        text-align: right;\n",
       "    }\n",
       "</style>\n",
       "<table border=\"1\" class=\"dataframe\">\n",
       "  <thead>\n",
       "    <tr style=\"text-align: right;\">\n",
       "      <th></th>\n",
       "      <th>id</th>\n",
       "      <th>name</th>\n",
       "      <th>fitness.height</th>\n",
       "      <th>fitness.weight</th>\n",
       "    </tr>\n",
       "  </thead>\n",
       "  <tbody>\n",
       "    <tr>\n",
       "      <th>0</th>\n",
       "      <td>1</td>\n",
       "      <td>cole volk</td>\n",
       "      <td>130</td>\n",
       "      <td>60</td>\n",
       "    </tr>\n",
       "    <tr>\n",
       "      <th>1</th>\n",
       "      <td>2</td>\n",
       "      <td>mark reg</td>\n",
       "      <td>130</td>\n",
       "      <td>60</td>\n",
       "    </tr>\n",
       "    <tr>\n",
       "      <th>2</th>\n",
       "      <td>3</td>\n",
       "      <td>Faye Raker</td>\n",
       "      <td>130</td>\n",
       "      <td>60</td>\n",
       "    </tr>\n",
       "  </tbody>\n",
       "</table>\n",
       "</div>"
      ],
      "text/plain": [
       "   id        name  fitness.height  fitness.weight\n",
       "0   1   cole volk             130              60\n",
       "1   2    mark reg             130              60\n",
       "2   3  Faye Raker             130              60"
      ]
     },
     "execution_count": 62,
     "metadata": {},
     "output_type": "execute_result"
    }
   ],
   "source": [
    "pd.json_normalize(data2)"
   ]
  },
  {
   "cell_type": "code",
   "execution_count": 63,
   "id": "87c2fadc",
   "metadata": {},
   "outputs": [
    {
     "data": {
      "text/html": [
       "<div>\n",
       "<style scoped>\n",
       "    .dataframe tbody tr th:only-of-type {\n",
       "        vertical-align: middle;\n",
       "    }\n",
       "\n",
       "    .dataframe tbody tr th {\n",
       "        vertical-align: top;\n",
       "    }\n",
       "\n",
       "    .dataframe thead th {\n",
       "        text-align: right;\n",
       "    }\n",
       "</style>\n",
       "<table border=\"1\" class=\"dataframe\">\n",
       "  <thead>\n",
       "    <tr style=\"text-align: right;\">\n",
       "      <th></th>\n",
       "      <th>id</th>\n",
       "      <th>name</th>\n",
       "      <th>fitness</th>\n",
       "    </tr>\n",
       "  </thead>\n",
       "  <tbody>\n",
       "    <tr>\n",
       "      <th>0</th>\n",
       "      <td>1</td>\n",
       "      <td>cole volk</td>\n",
       "      <td>{'height': 130, 'weight': 60}</td>\n",
       "    </tr>\n",
       "    <tr>\n",
       "      <th>1</th>\n",
       "      <td>2</td>\n",
       "      <td>mark reg</td>\n",
       "      <td>{'height': 130, 'weight': 60}</td>\n",
       "    </tr>\n",
       "    <tr>\n",
       "      <th>2</th>\n",
       "      <td>3</td>\n",
       "      <td>Faye Raker</td>\n",
       "      <td>{'height': 130, 'weight': 60}</td>\n",
       "    </tr>\n",
       "  </tbody>\n",
       "</table>\n",
       "</div>"
      ],
      "text/plain": [
       "   id        name                        fitness\n",
       "0   1   cole volk  {'height': 130, 'weight': 60}\n",
       "1   2    mark reg  {'height': 130, 'weight': 60}\n",
       "2   3  Faye Raker  {'height': 130, 'weight': 60}"
      ]
     },
     "execution_count": 63,
     "metadata": {},
     "output_type": "execute_result"
    }
   ],
   "source": [
    "pd.json_normalize(data2,max_level=0)"
   ]
  },
  {
   "cell_type": "code",
   "execution_count": 77,
   "id": "6e303a1c",
   "metadata": {},
   "outputs": [],
   "source": [
    "dataframe=[\n",
    "    {\n",
    "        \"state\":\"Madhyapradesh\",\n",
    "        \"shortname\":\"MP\",\n",
    "        \"info\" : {\"governer\":\"Mangu Bhai\"},\n",
    "        \"district\":[\n",
    "            {'name':'Balaghat','population':567433},\n",
    "            {'name':'Mandla','population':4356322},\n",
    "            {'name':'Seoni','population':5432455},\n",
    "        ],\n",
    "    },\n",
    "    {\n",
    "        'state':'Mharashtra',\n",
    "        'shortname':'MH',\n",
    "        'info':{'governer':'Bhagat singh koshyari'},\n",
    "        \"district\":[\n",
    "            {'name':'Nagpur','population':12000432},\n",
    "            {\"name\":\"Wardha\",'population':895432},\n",
    "            {'name':'Gondia','population':654751}\n",
    "        ],\n",
    "    },\n",
    "]"
   ]
  },
  {
   "cell_type": "code",
   "execution_count": 78,
   "id": "d36689d4",
   "metadata": {},
   "outputs": [
    {
     "data": {
      "text/plain": [
       "list"
      ]
     },
     "execution_count": 78,
     "metadata": {},
     "output_type": "execute_result"
    }
   ],
   "source": [
    "type(dataframe)"
   ]
  },
  {
   "cell_type": "code",
   "execution_count": 79,
   "id": "23741648",
   "metadata": {},
   "outputs": [
    {
     "data": {
      "text/html": [
       "<div>\n",
       "<style scoped>\n",
       "    .dataframe tbody tr th:only-of-type {\n",
       "        vertical-align: middle;\n",
       "    }\n",
       "\n",
       "    .dataframe tbody tr th {\n",
       "        vertical-align: top;\n",
       "    }\n",
       "\n",
       "    .dataframe thead th {\n",
       "        text-align: right;\n",
       "    }\n",
       "</style>\n",
       "<table border=\"1\" class=\"dataframe\">\n",
       "  <thead>\n",
       "    <tr style=\"text-align: right;\">\n",
       "      <th></th>\n",
       "      <th>state</th>\n",
       "      <th>shortname</th>\n",
       "      <th>district</th>\n",
       "      <th>info.governer</th>\n",
       "    </tr>\n",
       "  </thead>\n",
       "  <tbody>\n",
       "    <tr>\n",
       "      <th>0</th>\n",
       "      <td>Madhyapradesh</td>\n",
       "      <td>MP</td>\n",
       "      <td>[{'name': 'Balaghat', 'population': 567433}, {...</td>\n",
       "      <td>Mangu Bhai</td>\n",
       "    </tr>\n",
       "    <tr>\n",
       "      <th>1</th>\n",
       "      <td>Mharashtra</td>\n",
       "      <td>MH</td>\n",
       "      <td>[{'name': 'Nagpur', 'population': 12000432}, {...</td>\n",
       "      <td>Bhagat singh koshyari</td>\n",
       "    </tr>\n",
       "  </tbody>\n",
       "</table>\n",
       "</div>"
      ],
      "text/plain": [
       "           state shortname                                           district  \\\n",
       "0  Madhyapradesh        MP  [{'name': 'Balaghat', 'population': 567433}, {...   \n",
       "1     Mharashtra        MH  [{'name': 'Nagpur', 'population': 12000432}, {...   \n",
       "\n",
       "           info.governer  \n",
       "0             Mangu Bhai  \n",
       "1  Bhagat singh koshyari  "
      ]
     },
     "execution_count": 79,
     "metadata": {},
     "output_type": "execute_result"
    }
   ],
   "source": [
    "pd.json_normalize(dataframe)"
   ]
  },
  {
   "cell_type": "code",
   "execution_count": 80,
   "id": "cd2f4a12",
   "metadata": {},
   "outputs": [
    {
     "data": {
      "text/html": [
       "<div>\n",
       "<style scoped>\n",
       "    .dataframe tbody tr th:only-of-type {\n",
       "        vertical-align: middle;\n",
       "    }\n",
       "\n",
       "    .dataframe tbody tr th {\n",
       "        vertical-align: top;\n",
       "    }\n",
       "\n",
       "    .dataframe thead th {\n",
       "        text-align: right;\n",
       "    }\n",
       "</style>\n",
       "<table border=\"1\" class=\"dataframe\">\n",
       "  <thead>\n",
       "    <tr style=\"text-align: right;\">\n",
       "      <th></th>\n",
       "      <th>name</th>\n",
       "      <th>population</th>\n",
       "    </tr>\n",
       "  </thead>\n",
       "  <tbody>\n",
       "    <tr>\n",
       "      <th>0</th>\n",
       "      <td>Balaghat</td>\n",
       "      <td>567433</td>\n",
       "    </tr>\n",
       "    <tr>\n",
       "      <th>1</th>\n",
       "      <td>Mandla</td>\n",
       "      <td>4356322</td>\n",
       "    </tr>\n",
       "    <tr>\n",
       "      <th>2</th>\n",
       "      <td>Seoni</td>\n",
       "      <td>5432455</td>\n",
       "    </tr>\n",
       "    <tr>\n",
       "      <th>3</th>\n",
       "      <td>Nagpur</td>\n",
       "      <td>12000432</td>\n",
       "    </tr>\n",
       "    <tr>\n",
       "      <th>4</th>\n",
       "      <td>Wardha</td>\n",
       "      <td>895432</td>\n",
       "    </tr>\n",
       "    <tr>\n",
       "      <th>5</th>\n",
       "      <td>Gondia</td>\n",
       "      <td>654751</td>\n",
       "    </tr>\n",
       "  </tbody>\n",
       "</table>\n",
       "</div>"
      ],
      "text/plain": [
       "       name  population\n",
       "0  Balaghat      567433\n",
       "1    Mandla     4356322\n",
       "2     Seoni     5432455\n",
       "3    Nagpur    12000432\n",
       "4    Wardha      895432\n",
       "5    Gondia      654751"
      ]
     },
     "execution_count": 80,
     "metadata": {},
     "output_type": "execute_result"
    }
   ],
   "source": [
    "pd.json_normalize(dataframe,\"district\")"
   ]
  },
  {
   "cell_type": "code",
   "execution_count": 81,
   "id": "9eb69d91",
   "metadata": {},
   "outputs": [
    {
     "data": {
      "text/html": [
       "<div>\n",
       "<style scoped>\n",
       "    .dataframe tbody tr th:only-of-type {\n",
       "        vertical-align: middle;\n",
       "    }\n",
       "\n",
       "    .dataframe tbody tr th {\n",
       "        vertical-align: top;\n",
       "    }\n",
       "\n",
       "    .dataframe thead th {\n",
       "        text-align: right;\n",
       "    }\n",
       "</style>\n",
       "<table border=\"1\" class=\"dataframe\">\n",
       "  <thead>\n",
       "    <tr style=\"text-align: right;\">\n",
       "      <th></th>\n",
       "      <th>name</th>\n",
       "      <th>population</th>\n",
       "      <th>state</th>\n",
       "    </tr>\n",
       "  </thead>\n",
       "  <tbody>\n",
       "    <tr>\n",
       "      <th>0</th>\n",
       "      <td>Balaghat</td>\n",
       "      <td>567433</td>\n",
       "      <td>Madhyapradesh</td>\n",
       "    </tr>\n",
       "    <tr>\n",
       "      <th>1</th>\n",
       "      <td>Mandla</td>\n",
       "      <td>4356322</td>\n",
       "      <td>Madhyapradesh</td>\n",
       "    </tr>\n",
       "    <tr>\n",
       "      <th>2</th>\n",
       "      <td>Seoni</td>\n",
       "      <td>5432455</td>\n",
       "      <td>Madhyapradesh</td>\n",
       "    </tr>\n",
       "    <tr>\n",
       "      <th>3</th>\n",
       "      <td>Nagpur</td>\n",
       "      <td>12000432</td>\n",
       "      <td>Mharashtra</td>\n",
       "    </tr>\n",
       "    <tr>\n",
       "      <th>4</th>\n",
       "      <td>Wardha</td>\n",
       "      <td>895432</td>\n",
       "      <td>Mharashtra</td>\n",
       "    </tr>\n",
       "    <tr>\n",
       "      <th>5</th>\n",
       "      <td>Gondia</td>\n",
       "      <td>654751</td>\n",
       "      <td>Mharashtra</td>\n",
       "    </tr>\n",
       "  </tbody>\n",
       "</table>\n",
       "</div>"
      ],
      "text/plain": [
       "       name  population          state\n",
       "0  Balaghat      567433  Madhyapradesh\n",
       "1    Mandla     4356322  Madhyapradesh\n",
       "2     Seoni     5432455  Madhyapradesh\n",
       "3    Nagpur    12000432     Mharashtra\n",
       "4    Wardha      895432     Mharashtra\n",
       "5    Gondia      654751     Mharashtra"
      ]
     },
     "execution_count": 81,
     "metadata": {},
     "output_type": "execute_result"
    }
   ],
   "source": [
    "pd.json_normalize(dataframe,\"district\",[\"state\"])"
   ]
  },
  {
   "cell_type": "code",
   "execution_count": 84,
   "id": "8e9f75ec",
   "metadata": {},
   "outputs": [
    {
     "data": {
      "text/html": [
       "<div>\n",
       "<style scoped>\n",
       "    .dataframe tbody tr th:only-of-type {\n",
       "        vertical-align: middle;\n",
       "    }\n",
       "\n",
       "    .dataframe tbody tr th {\n",
       "        vertical-align: top;\n",
       "    }\n",
       "\n",
       "    .dataframe thead th {\n",
       "        text-align: right;\n",
       "    }\n",
       "</style>\n",
       "<table border=\"1\" class=\"dataframe\">\n",
       "  <thead>\n",
       "    <tr style=\"text-align: right;\">\n",
       "      <th></th>\n",
       "      <th>name</th>\n",
       "      <th>population</th>\n",
       "      <th>state</th>\n",
       "      <th>shortname</th>\n",
       "      <th>info</th>\n",
       "    </tr>\n",
       "  </thead>\n",
       "  <tbody>\n",
       "    <tr>\n",
       "      <th>0</th>\n",
       "      <td>Balaghat</td>\n",
       "      <td>567433</td>\n",
       "      <td>Madhyapradesh</td>\n",
       "      <td>MP</td>\n",
       "      <td>{'governer': 'Mangu Bhai'}</td>\n",
       "    </tr>\n",
       "    <tr>\n",
       "      <th>1</th>\n",
       "      <td>Mandla</td>\n",
       "      <td>4356322</td>\n",
       "      <td>Madhyapradesh</td>\n",
       "      <td>MP</td>\n",
       "      <td>{'governer': 'Mangu Bhai'}</td>\n",
       "    </tr>\n",
       "    <tr>\n",
       "      <th>2</th>\n",
       "      <td>Seoni</td>\n",
       "      <td>5432455</td>\n",
       "      <td>Madhyapradesh</td>\n",
       "      <td>MP</td>\n",
       "      <td>{'governer': 'Mangu Bhai'}</td>\n",
       "    </tr>\n",
       "    <tr>\n",
       "      <th>3</th>\n",
       "      <td>Nagpur</td>\n",
       "      <td>12000432</td>\n",
       "      <td>Mharashtra</td>\n",
       "      <td>MH</td>\n",
       "      <td>{'governer': 'Bhagat singh koshyari'}</td>\n",
       "    </tr>\n",
       "    <tr>\n",
       "      <th>4</th>\n",
       "      <td>Wardha</td>\n",
       "      <td>895432</td>\n",
       "      <td>Mharashtra</td>\n",
       "      <td>MH</td>\n",
       "      <td>{'governer': 'Bhagat singh koshyari'}</td>\n",
       "    </tr>\n",
       "    <tr>\n",
       "      <th>5</th>\n",
       "      <td>Gondia</td>\n",
       "      <td>654751</td>\n",
       "      <td>Mharashtra</td>\n",
       "      <td>MH</td>\n",
       "      <td>{'governer': 'Bhagat singh koshyari'}</td>\n",
       "    </tr>\n",
       "  </tbody>\n",
       "</table>\n",
       "</div>"
      ],
      "text/plain": [
       "       name  population          state shortname  \\\n",
       "0  Balaghat      567433  Madhyapradesh        MP   \n",
       "1    Mandla     4356322  Madhyapradesh        MP   \n",
       "2     Seoni     5432455  Madhyapradesh        MP   \n",
       "3    Nagpur    12000432     Mharashtra        MH   \n",
       "4    Wardha      895432     Mharashtra        MH   \n",
       "5    Gondia      654751     Mharashtra        MH   \n",
       "\n",
       "                                    info  \n",
       "0             {'governer': 'Mangu Bhai'}  \n",
       "1             {'governer': 'Mangu Bhai'}  \n",
       "2             {'governer': 'Mangu Bhai'}  \n",
       "3  {'governer': 'Bhagat singh koshyari'}  \n",
       "4  {'governer': 'Bhagat singh koshyari'}  \n",
       "5  {'governer': 'Bhagat singh koshyari'}  "
      ]
     },
     "execution_count": 84,
     "metadata": {},
     "output_type": "execute_result"
    }
   ],
   "source": [
    "pd.json_normalize(dataframe,\"district\",[\"state\",\"shortname\",\"info\"])"
   ]
  },
  {
   "cell_type": "code",
   "execution_count": 88,
   "id": "71de15c2",
   "metadata": {},
   "outputs": [
    {
     "data": {
      "text/html": [
       "<div>\n",
       "<style scoped>\n",
       "    .dataframe tbody tr th:only-of-type {\n",
       "        vertical-align: middle;\n",
       "    }\n",
       "\n",
       "    .dataframe tbody tr th {\n",
       "        vertical-align: top;\n",
       "    }\n",
       "\n",
       "    .dataframe thead th {\n",
       "        text-align: right;\n",
       "    }\n",
       "</style>\n",
       "<table border=\"1\" class=\"dataframe\">\n",
       "  <thead>\n",
       "    <tr style=\"text-align: right;\">\n",
       "      <th></th>\n",
       "      <th>name</th>\n",
       "      <th>population</th>\n",
       "      <th>state</th>\n",
       "      <th>shortname</th>\n",
       "      <th>info.governer</th>\n",
       "    </tr>\n",
       "  </thead>\n",
       "  <tbody>\n",
       "    <tr>\n",
       "      <th>0</th>\n",
       "      <td>Balaghat</td>\n",
       "      <td>567433</td>\n",
       "      <td>Madhyapradesh</td>\n",
       "      <td>MP</td>\n",
       "      <td>Mangu Bhai</td>\n",
       "    </tr>\n",
       "    <tr>\n",
       "      <th>1</th>\n",
       "      <td>Mandla</td>\n",
       "      <td>4356322</td>\n",
       "      <td>Madhyapradesh</td>\n",
       "      <td>MP</td>\n",
       "      <td>Mangu Bhai</td>\n",
       "    </tr>\n",
       "    <tr>\n",
       "      <th>2</th>\n",
       "      <td>Seoni</td>\n",
       "      <td>5432455</td>\n",
       "      <td>Madhyapradesh</td>\n",
       "      <td>MP</td>\n",
       "      <td>Mangu Bhai</td>\n",
       "    </tr>\n",
       "    <tr>\n",
       "      <th>3</th>\n",
       "      <td>Nagpur</td>\n",
       "      <td>12000432</td>\n",
       "      <td>Mharashtra</td>\n",
       "      <td>MH</td>\n",
       "      <td>Bhagat singh koshyari</td>\n",
       "    </tr>\n",
       "    <tr>\n",
       "      <th>4</th>\n",
       "      <td>Wardha</td>\n",
       "      <td>895432</td>\n",
       "      <td>Mharashtra</td>\n",
       "      <td>MH</td>\n",
       "      <td>Bhagat singh koshyari</td>\n",
       "    </tr>\n",
       "    <tr>\n",
       "      <th>5</th>\n",
       "      <td>Gondia</td>\n",
       "      <td>654751</td>\n",
       "      <td>Mharashtra</td>\n",
       "      <td>MH</td>\n",
       "      <td>Bhagat singh koshyari</td>\n",
       "    </tr>\n",
       "  </tbody>\n",
       "</table>\n",
       "</div>"
      ],
      "text/plain": [
       "       name  population          state shortname          info.governer\n",
       "0  Balaghat      567433  Madhyapradesh        MP             Mangu Bhai\n",
       "1    Mandla     4356322  Madhyapradesh        MP             Mangu Bhai\n",
       "2     Seoni     5432455  Madhyapradesh        MP             Mangu Bhai\n",
       "3    Nagpur    12000432     Mharashtra        MH  Bhagat singh koshyari\n",
       "4    Wardha      895432     Mharashtra        MH  Bhagat singh koshyari\n",
       "5    Gondia      654751     Mharashtra        MH  Bhagat singh koshyari"
      ]
     },
     "execution_count": 88,
     "metadata": {},
     "output_type": "execute_result"
    }
   ],
   "source": [
    "pd.json_normalize(dataframe,\"district\",[\"state\",\"shortname\",[\"info\",\"governer\"]])"
   ]
  },
  {
   "cell_type": "code",
   "execution_count": null,
   "id": "b36253b1",
   "metadata": {},
   "outputs": [],
   "source": []
  }
 ],
 "metadata": {
  "kernelspec": {
   "display_name": "Python 3",
   "language": "python",
   "name": "python3"
  },
  "language_info": {
   "codemirror_mode": {
    "name": "ipython",
    "version": 3
   },
   "file_extension": ".py",
   "mimetype": "text/x-python",
   "name": "python",
   "nbconvert_exporter": "python",
   "pygments_lexer": "ipython3",
   "version": "3.8.8"
  }
 },
 "nbformat": 4,
 "nbformat_minor": 5
}
